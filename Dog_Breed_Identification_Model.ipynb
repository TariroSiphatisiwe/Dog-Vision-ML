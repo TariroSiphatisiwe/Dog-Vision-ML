{
  "nbformat": 4,
  "nbformat_minor": 0,
  "metadata": {
    "colab": {
      "provenance": [],
      "mount_file_id": "1z_D5KrdoOeaK0ohEtXMmXCaML5ehwBL4",
      "authorship_tag": "ABX9TyNF5dH7W15o9q7fQ+t8H0HY",
      "include_colab_link": true
    },
    "kernelspec": {
      "name": "python3",
      "display_name": "Python 3"
    },
    "language_info": {
      "name": "python"
    }
  },
  "cells": [
    {
      "cell_type": "markdown",
      "metadata": {
        "id": "view-in-github",
        "colab_type": "text"
      },
      "source": [
        "<a href=\"https://colab.research.google.com/github/TariroSiphatisiwe/Dog-Vision-ML/blob/main/Dog_Breed_Identification_Model.ipynb\" target=\"_parent\"><img src=\"https://colab.research.google.com/assets/colab-badge.svg\" alt=\"Open In Colab\"/></a>"
      ]
    },
    {
      "cell_type": "code",
      "execution_count": null,
      "metadata": {
        "id": "5Mmz6oHLk04g"
      },
      "outputs": [],
      "source": []
    }
  ]
}